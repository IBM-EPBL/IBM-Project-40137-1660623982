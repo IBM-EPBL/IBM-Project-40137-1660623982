{
  "nbformat": 4,
  "nbformat_minor": 0,
  "metadata": {
    "colab": {
      "provenance": [],
      "collapsed_sections": []
    },
    "kernelspec": {
      "name": "python3",
      "display_name": "Python 3"
    },
    "language_info": {
      "name": "python"
    }
  },
  "cells": [
    {
      "cell_type": "code",
      "execution_count": null,
      "metadata": {
        "id": "SUHwT7W1Ot6H"
      },
      "outputs": [],
      "source": [
        "## Basics \n",
        "import numpy as np\n",
        "import pandas as pd\n",
        "## Visualization\n",
        "import matplotlib as plt\n",
        "import matplotlib.pyplot as plt\n",
        "import seaborn as sns\n",
        "\n"
      ]
    },
    {
      "cell_type": "code",
      "source": [],
      "metadata": {
        "id": "2eiQW5lLBgbZ"
      },
      "execution_count": null,
      "outputs": []
    },
    {
      "cell_type": "code",
      "source": [
        "from google.colab import drive\n",
        "drive.mount('/content/drive')"
      ],
      "metadata": {
        "id": "f1mYgC9jBkcq"
      },
      "execution_count": null,
      "outputs": []
    },
    {
      "cell_type": "code",
      "source": [
        "data = pd.read_csv('/content/drive/MyDrive/IBM/IBM_Churn_Modelling.csv')\n",
        "#train, test = train_test_split(data, test_size=0.25)\n"
      ],
      "metadata": {
        "id": "10_5J5LzV1b4"
      },
      "execution_count": null,
      "outputs": []
    },
    {
      "cell_type": "code",
      "source": [
        "fig, ax = plt.subplots(2, 7, figsize=(15, 12))\n",
        "plt.subplots_adjust(left=None, bottom=None, right=None, top=1, wspace=0.3, hspace=0.4)\n",
        "for variable, subplot in zip(data.columns, ax.flatten()):\n",
        "  sns.histplot(data[variable], ax=subplot)"
      ],
      "metadata": {
        "id": "VBMfxh6hWyfI"
      },
      "execution_count": null,
      "outputs": []
    },
    {
      "cell_type": "code",
      "source": [
        "sns.pairplot(data = data)\n",
        "plt.show()"
      ],
      "metadata": {
        "id": "MoOq2sSlZdG3"
      },
      "execution_count": null,
      "outputs": []
    },
    {
      "cell_type": "code",
      "source": [
        "result = pd.pivot_table(data=data, index='CreditScore')\n",
        "sns.heatmap(result, annot=True, cmap = 'RdYlGn_r')\n",
        "plt.show()"
      ],
      "metadata": {
        "id": "mxRaAhdz24tr"
      },
      "execution_count": null,
      "outputs": []
    },
    {
      "cell_type": "code",
      "source": [
        "#4\n",
        "data.describe()"
      ],
      "metadata": {
        "id": "gIkOO7FV7LOh"
      },
      "execution_count": null,
      "outputs": []
    },
    {
      "cell_type": "code",
      "source": [
        "#5\n",
        "data.isnull().sum()"
      ],
      "metadata": {
        "id": "-TnGQAKS5Aw5"
      },
      "execution_count": null,
      "outputs": []
    },
    {
      "cell_type": "code",
      "source": [
        "data['Gender'].value_counts()"
      ],
      "metadata": {
        "id": "VuNsWXF25KI5"
      },
      "execution_count": null,
      "outputs": []
    },
    {
      "cell_type": "code",
      "source": [
        "#6\n",
        "sns.boxplot(data['Balance'])"
      ],
      "metadata": {
        "id": "n4MYtwq85ZHL"
      },
      "execution_count": null,
      "outputs": []
    },
    {
      "cell_type": "code",
      "source": [
        "qnt = data.quantile( q=[0.25, 0.75])"
      ],
      "metadata": {
        "id": "6HHz2drC51gu"
      },
      "execution_count": null,
      "outputs": []
    },
    {
      "cell_type": "code",
      "source": [
        "qnt"
      ],
      "metadata": {
        "id": "NGQBGe3E5_Ja"
      },
      "execution_count": null,
      "outputs": []
    },
    {
      "cell_type": "code",
      "source": [
        "IQR=qnt.loc[0.75]-qnt.loc[0.25]"
      ],
      "metadata": {
        "id": "V9H48WlE6Er6"
      },
      "execution_count": null,
      "outputs": []
    },
    {
      "cell_type": "code",
      "source": [
        "IQR\n"
      ],
      "metadata": {
        "id": "D-l0YnDF6zaZ"
      },
      "execution_count": null,
      "outputs": []
    },
    {
      "cell_type": "code",
      "source": [
        "uppext=qnt.loc[0.75]+1.5*IQR\n",
        "uppext"
      ],
      "metadata": {
        "id": "mfM-vrd77EX0"
      },
      "execution_count": null,
      "outputs": []
    },
    {
      "cell_type": "code",
      "source": [
        "lowext=qnt.loc[0.25]-1.5*IQR\n",
        "lowext"
      ],
      "metadata": {
        "id": "uyZa4u5B7a7U"
      },
      "execution_count": null,
      "outputs": []
    },
    {
      "cell_type": "code",
      "source": [
        "data[data['CreditScore']>9.190000e+02]"
      ],
      "metadata": {
        "id": "p7d78rmf7qhJ"
      },
      "execution_count": null,
      "outputs": []
    },
    {
      "cell_type": "code",
      "source": [
        "#7\n",
        "pd.get_dummies(data, columns=['CreditScore'])"
      ],
      "metadata": {
        "id": "cDWWwavi8CiB"
      },
      "execution_count": null,
      "outputs": []
    },
    {
      "cell_type": "code",
      "source": [
        "\n",
        "from sklearn.preprocessing import LabelEncoder\n",
        "le= LabelEncoder()\n",
        "data ['CreditScore'] = le.fit_transform(data['CreditScore'])\n",
        "data.head()\n"
      ],
      "metadata": {
        "id": "HWotLf6a8YGb"
      },
      "execution_count": null,
      "outputs": []
    },
    {
      "cell_type": "code",
      "source": [
        "#8\n",
        "b=data['CustomerId']\n",
        "a=data.iloc[:,0:14]"
      ],
      "metadata": {
        "id": "uxXbBkJ-8_ZB"
      },
      "execution_count": null,
      "outputs": []
    },
    {
      "cell_type": "code",
      "source": [
        "#9\n",
        "data.iloc[:,0:14]"
      ],
      "metadata": {
        "id": "8BPEj4Zp9VAg"
      },
      "execution_count": null,
      "outputs": []
    },
    {
      "cell_type": "code",
      "source": [
        "#10\n",
        "from sklearn.model_selection import train_test_split\n",
        "a_train,a_test,b_train,b_test=train_test_split(a,b,test_size=0.1)\n",
        "a_train.shape"
      ],
      "metadata": {
        "id": "yQM5D9pq9wou"
      },
      "execution_count": null,
      "outputs": []
    },
    {
      "cell_type": "code",
      "source": [
        "a_test.shape"
      ],
      "metadata": {
        "id": "FySeIE4K-Vaz"
      },
      "execution_count": null,
      "outputs": []
    }
  ]
}